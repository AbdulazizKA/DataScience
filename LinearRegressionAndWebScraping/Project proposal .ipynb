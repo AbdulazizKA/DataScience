{
 "cells": [
  {
   "cell_type": "markdown",
   "id": "4c74685e",
   "metadata": {},
   "source": [
    "## Project proposal-Car price prediction "
   ]
  },
  {
   "cell_type": "markdown",
   "id": "45c8ab5e",
   "metadata": {},
   "source": [
    "The project will be about vehicle price prediction, which will help to understand the factors that influence car pricing in the Saudi market.by using data science techniques such as web scraping, EDA, and linear regression to determine the pricing of automobiles given the available independent factors. The initiative will assist anybody living in Saudi Arabia, whether a person or a business, in understanding how costs fluctuate depending on the independent variables."
   ]
  },
  {
   "cell_type": "markdown",
   "id": "6d35ebb3",
   "metadata": {},
   "source": [
    "### Data Description"
   ]
  },
  {
   "cell_type": "markdown",
   "id": "74442d06",
   "metadata": {},
   "source": [
    "Create a new dataset using online scraping techniques. SaudiSale.com is one of the websites I'll scrape.It will serve as the primary dataset for this project. Some of the features that may be used include new car price, mileage, engine type, and year of manufacture. the  goal is to forecast used vehicle prices."
   ]
  },
  {
   "cell_type": "markdown",
   "id": "6ef078c4",
   "metadata": {},
   "source": [
    "### Tools"
   ]
  },
  {
   "cell_type": "markdown",
   "id": "59927bf7",
   "metadata": {},
   "source": [
    "will make advantage of \n",
    "\n",
    "•\tSklearn and statsmodels\n",
    "\n",
    "•\tSelenium and Beautifulsoup for web scrapping\n",
    "\n",
    "•\tPandas and NumPy\n",
    "\n",
    "•\tSeaborn and Matplotlib for Plotting\n"
   ]
  }
 ],
 "metadata": {
  "kernelspec": {
   "display_name": "Python 3",
   "language": "python",
   "name": "python3"
  },
  "language_info": {
   "codemirror_mode": {
    "name": "ipython",
    "version": 3
   },
   "file_extension": ".py",
   "mimetype": "text/x-python",
   "name": "python",
   "nbconvert_exporter": "python",
   "pygments_lexer": "ipython3",
   "version": "3.8.8"
  }
 },
 "nbformat": 4,
 "nbformat_minor": 5
}
