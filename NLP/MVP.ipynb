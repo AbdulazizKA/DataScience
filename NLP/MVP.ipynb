{
 "cells": [
  {
   "cell_type": "markdown",
   "id": "b4b622f0",
   "metadata": {},
   "source": [
    "# Airbnb Reviews Topic Modeling & Sentiment Analysis"
   ]
  },
  {
   "cell_type": "markdown",
   "id": "7582d29b",
   "metadata": {},
   "source": [
    "## Introduction:"
   ]
  },
  {
   "cell_type": "markdown",
   "id": "f491caa8",
   "metadata": {},
   "source": [
    "> In this project our task was to get a dataset to build an NLP model. We chose to analyze a dataset obtained from a website that collects Airbnb reviews called inside Airbnb.\n"
   ]
  },
  {
   "cell_type": "markdown",
   "id": "420f04ea",
   "metadata": {},
   "source": [
    "## project Progress:"
   ]
  },
  {
   "cell_type": "markdown",
   "id": "00fb4203",
   "metadata": {},
   "source": [
    "> - we cleaned the raw text data by removing digits, punctuation, special characters stop words, non-English words, converting words to lower case, lemmatization, and adding a spell checker.\n",
    "> - We used the CountVectorizer tool to convetr the reviews into document-term matrix as unigram.\n",
    "> - also we used TF-IDF tool.\n",
    "> - we create NMF model but we still clean it.\n",
    "> - we still trying with the NMF model cleaning it by adding some words to the stopwords such as hosts's name.\n"
   ]
  },
  {
   "cell_type": "markdown",
   "id": "e6154629",
   "metadata": {},
   "source": [
    "## Graph:"
   ]
  },
  {
   "cell_type": "markdown",
   "id": "84b23bfd",
   "metadata": {},
   "source": [
    "<img src=\"MVP.png\" width=\"800\" height=\"400\">"
   ]
  },
  {
   "cell_type": "markdown",
   "id": "a1e5f2ac",
   "metadata": {},
   "source": [
    "That's our wordcloud after cleaning the reviews"
   ]
  },
  {
   "cell_type": "markdown",
   "id": "821247ad",
   "metadata": {},
   "source": [
    "Future work:"
   ]
  },
  {
   "cell_type": "markdown",
   "id": "58d14882",
   "metadata": {},
   "source": [
    "> - Using other liberies such as Spacy.\n",
    "> - do sentiment analysis on the reviews.\n",
    "> - apply extra models on topic modeling such as LDA and CoreX."
   ]
  }
 ],
 "metadata": {
  "kernelspec": {
   "display_name": "Python 3",
   "language": "python",
   "name": "python3"
  },
  "language_info": {
   "codemirror_mode": {
    "name": "ipython",
    "version": 3
   },
   "file_extension": ".py",
   "mimetype": "text/x-python",
   "name": "python",
   "nbconvert_exporter": "python",
   "pygments_lexer": "ipython3",
   "version": "3.8.8"
  }
 },
 "nbformat": 4,
 "nbformat_minor": 5
}
