{
 "cells": [
  {
   "cell_type": "markdown",
   "id": "c37c25d3",
   "metadata": {},
   "source": [
    "## Project Proposal – Yellow Taxi Trip \n",
    "The purpose of this project is to look at the yellow taxi trip records, in order to investigate passenger’s behavior. \n",
    "\n",
    "This project will focus on four things. First, at what time of the day passenger will give more tips. Second, look at the relation between number of passenger and tip amount. Next at what time of the day passengers usually dispute with taxi drivers. Last, know when the demand for taxi increase. \n",
    "\n",
    "This analysis will help the taxi drivers as well as the company to know when the best time to serve and when to reduce or avoid serving.\n",
    " \n",
    "## Data Obtained\n",
    "The data gained from NTC taxi and limousine commission https://www1.nyc.gov/site/tlc/about/tlc-trip-record-data.page downloaded as .csv then comforted to .dp using SQLite.\n",
    "\n",
    "## Characteristics/Features\n",
    "\n",
    "### Data Provider\n",
    "\n",
    "|Field Name|    Description|\n",
    "|---|---|\n",
    "|VendorID|  A code indicating the TPEP provider that provided the record. 1= Creative Mobile Technologies, LLC; 2= VeriFone Inc.\n",
    "\n",
    "\n",
    "\n",
    "### Trip Information\n",
    "|Field Name\t|\t\tDescription|\n",
    "|---|---|\n",
    "|tpep_pickup_datetime|\tThe date and time when the meter was engaged.\n",
    "|tpep_dropoff_datetime|\tThe date and time when the meter was disengaged.\n",
    "|Passenger_count|\tThe number of passengers in the vehicle. This is a driver-entered value.\n",
    "|Trip_distance|\tThe elapsed trip distance in miles reported by the taximeter.\n",
    "|PULocationID|\tTLC Taxi Zone in which the taximeter was engaged.\n",
    "|DOLocationID|\tTLC Taxi Zone in which the taximeter was disengaged.\n",
    "|RateCodeID|\tThe final rate code in effect at the end of the trip. 1= Standard rate 2=JFK 3=Newark 4=Nassau or Westchester 5=Negotiated fare 6=Group ride.\n",
    "|Store_and_fwd_flag|\tThis flag indicates whether the trip record was held in vehicle memory before sending to the vendor, aka “store and forward,” because the vehicle did not have a connection to the server. Y= store and forward trip N= not a store and forward trip.\n",
    "\n",
    "\n",
    "### Payments\n",
    "|Field Name |Description|\n",
    "|---|---|\n",
    "|Payment_type|A numeric code signifying how the passenger paid for the trip. 1= Credit card 2= Cash 3= No charge 4= Dispute 5= Unknown 6= Voided trip.|\n",
    "|Fare_amount|The time-and-distance fare calculated by the meter.|\n",
    "|Extra|\tMiscellaneous extras and surcharges. Currently, this only includes the $0.50 and $1 rush hour and overnight charges.\n",
    "  MTA_tax\t$0.50 MTA tax that is automatically triggered based on the metered rate in use.|\n",
    "|Improvement_surcharge| $0.30 improvement surcharge assessed trips at the flag drop. The improvement surcharge began being levied in 2015.|\n",
    "|Tip_amount|Tip amount – This field is automatically populated for credit card tips. Cash tips are not included.|\n",
    "|Tolls_amount|Total amount of all tolls paid in trip.|\n",
    "|Total_amount|The total amount charged to passengers. Does not include cash tips.|\n",
    "\n",
    "\n",
    "\n",
    "\n",
    "\n",
    "\n",
    "\n",
    "## Tools\n",
    "-\tJupiter: creating various graphical representations to understand the data better using NumPy, Pandas, Matplotlib, and Seaborn library.\n",
    "-\tSQLite: managing the tables\n",
    "\n",
    "\n",
    "\n"
   ]
  },
  {
   "cell_type": "code",
   "execution_count": null,
   "id": "37c1bcaf",
   "metadata": {},
   "outputs": [],
   "source": []
  }
 ],
 "metadata": {
  "kernelspec": {
   "display_name": "Python 3",
   "language": "python",
   "name": "python3"
  },
  "language_info": {
   "codemirror_mode": {
    "name": "ipython",
    "version": 3
   },
   "file_extension": ".py",
   "mimetype": "text/x-python",
   "name": "python",
   "nbconvert_exporter": "python",
   "pygments_lexer": "ipython3",
   "version": "3.8.8"
  }
 },
 "nbformat": 4,
 "nbformat_minor": 5
}
