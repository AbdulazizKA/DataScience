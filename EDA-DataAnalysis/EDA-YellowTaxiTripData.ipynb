{
 "cells": [
  {
   "cell_type": "markdown",
   "id": "cf7cb31a",
   "metadata": {},
   "source": [
    "## Yellow Taxi Trip Data\n",
    "\n",
    "The purpose of this project is to look at the yellow taxi trip records, in order to investigate passenger’s behavior. This analysis will help the taxi drivers as well as the company to know when the best time to serve and when to reduce or avoid serving. \n"
   ]
  },
  {
   "cell_type": "markdown",
   "id": "f6134d3a",
   "metadata": {},
   "source": [
    "First of all, lets import & connect the database. "
   ]
  },
  {
   "cell_type": "code",
   "execution_count": 1,
   "id": "2ada3ea8",
   "metadata": {},
   "outputs": [],
   "source": [
    "#Import libraries \n",
    "import pandas as pd\n",
    "import numpy as np\n",
    "import matplotlib.pyplot as plt\n",
    "import seaborn as sns\n",
    "import sqlalchemy\n",
    "import sqlite3 as sql\n",
    "import datetime as dt\n",
    "sns.set()"
   ]
  },
  {
   "cell_type": "code",
   "execution_count": 2,
   "id": "f6cb2add",
   "metadata": {},
   "outputs": [
    {
     "data": {
      "text/html": [
       "<div>\n",
       "<style scoped>\n",
       "    .dataframe tbody tr th:only-of-type {\n",
       "        vertical-align: middle;\n",
       "    }\n",
       "\n",
       "    .dataframe tbody tr th {\n",
       "        vertical-align: top;\n",
       "    }\n",
       "\n",
       "    .dataframe thead th {\n",
       "        text-align: right;\n",
       "    }\n",
       "</style>\n",
       "<table border=\"1\" class=\"dataframe\">\n",
       "  <thead>\n",
       "    <tr style=\"text-align: right;\">\n",
       "      <th></th>\n",
       "      <th>VendorID</th>\n",
       "      <th>tpep_pickup_datetime</th>\n",
       "      <th>time_pickup</th>\n",
       "      <th>tpep_dropoff_datetime</th>\n",
       "      <th>time_dropoff</th>\n",
       "      <th>passenger_count</th>\n",
       "      <th>trip_distance</th>\n",
       "      <th>RatecodeID8</th>\n",
       "      <th>store_and_fwd_flag</th>\n",
       "      <th>PULocationID</th>\n",
       "      <th>DOLocationID</th>\n",
       "      <th>payment_type</th>\n",
       "      <th>fare_amount</th>\n",
       "      <th>extra</th>\n",
       "      <th>mta_tax</th>\n",
       "      <th>tip_amount</th>\n",
       "      <th>tolls_amount</th>\n",
       "      <th>improvement_surcharge</th>\n",
       "      <th>total_amount</th>\n",
       "      <th>congestion_surcharge</th>\n",
       "    </tr>\n",
       "  </thead>\n",
       "  <tbody>\n",
       "    <tr>\n",
       "      <th>0</th>\n",
       "      <td>1</td>\n",
       "      <td>2/1/2021 0:40</td>\n",
       "      <td>0:40</td>\n",
       "      <td>2/1/2021 0:48</td>\n",
       "      <td>0:48</td>\n",
       "      <td>1</td>\n",
       "      <td>2.30</td>\n",
       "      <td>1</td>\n",
       "      <td>N</td>\n",
       "      <td>141</td>\n",
       "      <td>226</td>\n",
       "      <td>2</td>\n",
       "      <td>8.5</td>\n",
       "      <td>3.0</td>\n",
       "      <td>0.5</td>\n",
       "      <td>0.00</td>\n",
       "      <td>0.0</td>\n",
       "      <td>0.3</td>\n",
       "      <td>12.30</td>\n",
       "      <td>2.5</td>\n",
       "    </tr>\n",
       "    <tr>\n",
       "      <th>1</th>\n",
       "      <td>1</td>\n",
       "      <td>2/1/2021 0:07</td>\n",
       "      <td>0:07</td>\n",
       "      <td>2/1/2021 0:20</td>\n",
       "      <td>0:20</td>\n",
       "      <td>1</td>\n",
       "      <td>1.60</td>\n",
       "      <td>1</td>\n",
       "      <td>N</td>\n",
       "      <td>43</td>\n",
       "      <td>263</td>\n",
       "      <td>2</td>\n",
       "      <td>9.5</td>\n",
       "      <td>3.0</td>\n",
       "      <td>0.5</td>\n",
       "      <td>0.00</td>\n",
       "      <td>0.0</td>\n",
       "      <td>0.3</td>\n",
       "      <td>13.30</td>\n",
       "      <td>0.0</td>\n",
       "    </tr>\n",
       "    <tr>\n",
       "      <th>2</th>\n",
       "      <td>1</td>\n",
       "      <td>2/1/2021 0:59</td>\n",
       "      <td>0:59</td>\n",
       "      <td>2/1/2021 1:24</td>\n",
       "      <td>1:24</td>\n",
       "      <td>1</td>\n",
       "      <td>5.30</td>\n",
       "      <td>1</td>\n",
       "      <td>N</td>\n",
       "      <td>114</td>\n",
       "      <td>263</td>\n",
       "      <td>2</td>\n",
       "      <td>19.0</td>\n",
       "      <td>3.0</td>\n",
       "      <td>0.5</td>\n",
       "      <td>0.00</td>\n",
       "      <td>0.0</td>\n",
       "      <td>0.3</td>\n",
       "      <td>22.80</td>\n",
       "      <td>2.5</td>\n",
       "    </tr>\n",
       "    <tr>\n",
       "      <th>3</th>\n",
       "      <td>2</td>\n",
       "      <td>2/1/2021 0:03</td>\n",
       "      <td>0:03</td>\n",
       "      <td>2/1/2021 0:16</td>\n",
       "      <td>0:16</td>\n",
       "      <td>1</td>\n",
       "      <td>2.79</td>\n",
       "      <td>1</td>\n",
       "      <td>N</td>\n",
       "      <td>236</td>\n",
       "      <td>229</td>\n",
       "      <td>1</td>\n",
       "      <td>11.0</td>\n",
       "      <td>0.5</td>\n",
       "      <td>0.5</td>\n",
       "      <td>2.96</td>\n",
       "      <td>0.0</td>\n",
       "      <td>0.3</td>\n",
       "      <td>17.76</td>\n",
       "      <td>2.5</td>\n",
       "    </tr>\n",
       "    <tr>\n",
       "      <th>4</th>\n",
       "      <td>2</td>\n",
       "      <td>2/1/2021 0:20</td>\n",
       "      <td>0:20</td>\n",
       "      <td>2/1/2021 0:24</td>\n",
       "      <td>0:24</td>\n",
       "      <td>2</td>\n",
       "      <td>0.64</td>\n",
       "      <td>1</td>\n",
       "      <td>N</td>\n",
       "      <td>229</td>\n",
       "      <td>140</td>\n",
       "      <td>1</td>\n",
       "      <td>4.5</td>\n",
       "      <td>0.5</td>\n",
       "      <td>0.5</td>\n",
       "      <td>1.66</td>\n",
       "      <td>0.0</td>\n",
       "      <td>0.3</td>\n",
       "      <td>9.96</td>\n",
       "      <td>2.5</td>\n",
       "    </tr>\n",
       "  </tbody>\n",
       "</table>\n",
       "</div>"
      ],
      "text/plain": [
       "   VendorID tpep_pickup_datetime time_pickup tpep_dropoff_datetime  \\\n",
       "0         1        2/1/2021 0:40        0:40         2/1/2021 0:48   \n",
       "1         1        2/1/2021 0:07        0:07         2/1/2021 0:20   \n",
       "2         1        2/1/2021 0:59        0:59         2/1/2021 1:24   \n",
       "3         2        2/1/2021 0:03        0:03         2/1/2021 0:16   \n",
       "4         2        2/1/2021 0:20        0:20         2/1/2021 0:24   \n",
       "\n",
       "  time_dropoff  passenger_count  trip_distance  RatecodeID8  \\\n",
       "0         0:48                1           2.30            1   \n",
       "1         0:20                1           1.60            1   \n",
       "2         1:24                1           5.30            1   \n",
       "3         0:16                1           2.79            1   \n",
       "4         0:24                2           0.64            1   \n",
       "\n",
       "  store_and_fwd_flag  PULocationID  DOLocationID  payment_type  fare_amount  \\\n",
       "0                  N           141           226             2          8.5   \n",
       "1                  N            43           263             2          9.5   \n",
       "2                  N           114           263             2         19.0   \n",
       "3                  N           236           229             1         11.0   \n",
       "4                  N           229           140             1          4.5   \n",
       "\n",
       "   extra  mta_tax  tip_amount  tolls_amount  improvement_surcharge  \\\n",
       "0    3.0      0.5        0.00           0.0                    0.3   \n",
       "1    3.0      0.5        0.00           0.0                    0.3   \n",
       "2    3.0      0.5        0.00           0.0                    0.3   \n",
       "3    0.5      0.5        2.96           0.0                    0.3   \n",
       "4    0.5      0.5        1.66           0.0                    0.3   \n",
       "\n",
       "   total_amount  congestion_surcharge  \n",
       "0         12.30                   2.5  \n",
       "1         13.30                   0.0  \n",
       "2         22.80                   2.5  \n",
       "3         17.76                   2.5  \n",
       "4          9.96                   2.5  "
      ]
     },
     "execution_count": 2,
     "metadata": {},
     "output_type": "execute_result"
    }
   ],
   "source": [
    "#create connection to database file & the first 5 rows\n",
    "database = r\"C:\\Users\\win10\\Desktop\\yellow_tripdata.db\"\n",
    "connect  = sql.connect(database)\n",
    "query = '''select * from yellow_tripdata'''\n",
    "df = pd.read_sql_query(query, connect)\n",
    "df.head()"
   ]
  },
  {
   "cell_type": "markdown",
   "id": "6f30f06a",
   "metadata": {},
   "source": [
    "### Exploring the Dataset"
   ]
  },
  {
   "cell_type": "markdown",
   "id": "a591c87f",
   "metadata": {},
   "source": [
    "The data looks just like as it wanted. We can easily tell just by looking at the dataset that it contains data about different times, locations, distance, and their tip amount as well as total amount. "
   ]
  },
  {
   "cell_type": "code",
   "execution_count": 3,
   "id": "3632d877",
   "metadata": {},
   "outputs": [
    {
     "data": {
      "text/plain": [
       "(1048575, 20)"
      ]
     },
     "execution_count": 3,
     "metadata": {},
     "output_type": "execute_result"
    }
   ],
   "source": [
    "#shape of the dataset\n",
    "df.shape"
   ]
  },
  {
   "cell_type": "code",
   "execution_count": 4,
   "id": "1a521252",
   "metadata": {},
   "outputs": [
    {
     "data": {
      "text/plain": [
       "Index(['VendorID', 'tpep_pickup_datetime', 'time_pickup',\n",
       "       'tpep_dropoff_datetime', 'time_dropoff', 'passenger_count',\n",
       "       'trip_distance', 'RatecodeID8', 'store_and_fwd_flag', 'PULocationID',\n",
       "       'DOLocationID', 'payment_type', 'fare_amount', 'extra', 'mta_tax',\n",
       "       'tip_amount', 'tolls_amount', 'improvement_surcharge', 'total_amount',\n",
       "       'congestion_surcharge'],\n",
       "      dtype='object')"
      ]
     },
     "execution_count": 4,
     "metadata": {},
     "output_type": "execute_result"
    }
   ],
   "source": [
    "#check the columns\n",
    "df.columns"
   ]
  },
  {
   "cell_type": "code",
   "execution_count": 5,
   "id": "083331f6",
   "metadata": {},
   "outputs": [
    {
     "data": {
      "text/plain": [
       "VendorID                   int64\n",
       "tpep_pickup_datetime      object\n",
       "time_pickup               object\n",
       "tpep_dropoff_datetime     object\n",
       "time_dropoff              object\n",
       "passenger_count            int64\n",
       "trip_distance            float64\n",
       "RatecodeID8                int64\n",
       "store_and_fwd_flag        object\n",
       "PULocationID               int64\n",
       "DOLocationID               int64\n",
       "payment_type               int64\n",
       "fare_amount              float64\n",
       "extra                    float64\n",
       "mta_tax                  float64\n",
       "tip_amount               float64\n",
       "tolls_amount             float64\n",
       "improvement_surcharge    float64\n",
       "total_amount             float64\n",
       "congestion_surcharge     float64\n",
       "dtype: object"
      ]
     },
     "execution_count": 5,
     "metadata": {},
     "output_type": "execute_result"
    }
   ],
   "source": [
    "#check datatypes of all these columns.\n",
    "df.dtypes"
   ]
  },
  {
   "cell_type": "code",
   "execution_count": 6,
   "id": "ccf5ae62",
   "metadata": {},
   "outputs": [
    {
     "name": "stdout",
     "output_type": "stream",
     "text": [
      "0          False\n",
      "1          False\n",
      "2          False\n",
      "3          False\n",
      "4          False\n",
      "           ...  \n",
      "1048570    False\n",
      "1048571    False\n",
      "1048572    False\n",
      "1048573    False\n",
      "1048574    False\n",
      "Length: 1048575, dtype: bool\n"
     ]
    }
   ],
   "source": [
    "#check for duplication\n",
    "print(df.duplicated())"
   ]
  },
  {
   "cell_type": "markdown",
   "id": "9c3aac5b",
   "metadata": {},
   "source": [
    "as we can see above there are no duplications.\n",
    "\n",
    "next, let's check for missing values in the dataset."
   ]
  },
  {
   "cell_type": "code",
   "execution_count": 7,
   "id": "e19bdf86",
   "metadata": {},
   "outputs": [
    {
     "data": {
      "text/plain": [
       "VendorID                 0\n",
       "tpep_pickup_datetime     0\n",
       "time_pickup              0\n",
       "tpep_dropoff_datetime    0\n",
       "time_dropoff             0\n",
       "passenger_count          0\n",
       "trip_distance            0\n",
       "RatecodeID8              0\n",
       "store_and_fwd_flag       0\n",
       "PULocationID             0\n",
       "DOLocationID             0\n",
       "payment_type             0\n",
       "fare_amount              0\n",
       "extra                    0\n",
       "mta_tax                  0\n",
       "tip_amount               0\n",
       "tolls_amount             0\n",
       "improvement_surcharge    0\n",
       "total_amount             0\n",
       "congestion_surcharge     0\n",
       "dtype: int64"
      ]
     },
     "execution_count": 7,
     "metadata": {},
     "output_type": "execute_result"
    }
   ],
   "source": [
    "#check for missing values\n",
    "df.isnull().sum()"
   ]
  },
  {
   "cell_type": "markdown",
   "id": "1a57b151",
   "metadata": {},
   "source": [
    "Fortunately, there are no missing values in this dataset"
   ]
  },
  {
   "cell_type": "code",
   "execution_count": 8,
   "id": "7263a3d7",
   "metadata": {},
   "outputs": [
    {
     "data": {
      "text/plain": [
       "VendorID                     2\n",
       "tpep_pickup_datetime     32423\n",
       "time_pickup               1440\n",
       "tpep_dropoff_datetime    32540\n",
       "time_dropoff              1440\n",
       "passenger_count              9\n",
       "trip_distance             3349\n",
       "RatecodeID8                  7\n",
       "store_and_fwd_flag           2\n",
       "PULocationID               258\n",
       "DOLocationID               260\n",
       "payment_type                 4\n",
       "fare_amount               1051\n",
       "extra                       15\n",
       "mta_tax                      6\n",
       "tip_amount                1894\n",
       "tolls_amount               225\n",
       "improvement_surcharge        3\n",
       "total_amount              5649\n",
       "congestion_surcharge         7\n",
       "dtype: int64"
      ]
     },
     "execution_count": 8,
     "metadata": {},
     "output_type": "execute_result"
    }
   ],
   "source": [
    "# check for unique values of all columns\n",
    "df.nunique()"
   ]
  },
  {
   "cell_type": "markdown",
   "id": "c7c4b85e",
   "metadata": {},
   "source": [
    "### Feature Enhancement\n",
    "making some new features out of the existing variables so that we can get more information out of the data.\n",
    "converting the datetime"
   ]
  },
  {
   "cell_type": "code",
   "execution_count": 9,
   "id": "2dc03747",
   "metadata": {},
   "outputs": [],
   "source": [
    "#converting the datetime\n",
    "df['tpep_pickup_datetime']=pd.to_datetime(df['tpep_pickup_datetime'])\n",
    "df['tpep_pickup_datetime']=pd.to_datetime(df['tpep_pickup_datetime'])\n",
    "df['pickup_day']=df['tpep_pickup_datetime'].dt.day_name()\n",
    "df['dropoff_day']=df['tpep_pickup_datetime'].dt.day_name()\n",
    "df['pickup_day_no']=df['tpep_pickup_datetime'].dt.weekday\n",
    "df['dropoff_day_no']=df['tpep_pickup_datetime'].dt.weekday\n",
    "df['pickup_hour']=df['tpep_pickup_datetime'].dt.hour\n",
    "df['dropoff_hour']=df['tpep_pickup_datetime'].dt.hour\n",
    "df['pickup_month']=df['tpep_pickup_datetime'].dt.month\n",
    "df['dropoff_month']=df['tpep_pickup_datetime'].dt.month"
   ]
  },
  {
   "cell_type": "markdown",
   "id": "e5e9134f",
   "metadata": {},
   "source": [
    "next, let's use this function to figure out what time of day the ride was taken."
   ]
  },
  {
   "cell_type": "code",
   "execution_count": 10,
   "id": "36897016",
   "metadata": {},
   "outputs": [],
   "source": [
    "def time_of_day(x):\n",
    "    if x in range(6,12):\n",
    "        return 'Morning'\n",
    "    elif x in range(12,16):\n",
    "        return 'Afternoon'\n",
    "    elif x in range(16,22):\n",
    "        return 'Evening'\n",
    "    else:\n",
    "        return 'Late night'"
   ]
  },
  {
   "cell_type": "code",
   "execution_count": 11,
   "id": "49b1eef5",
   "metadata": {},
   "outputs": [],
   "source": [
    "#create new columns in the dataset.\n",
    "df['pickup_timeofday']=df['pickup_hour'].apply(time_of_day)\n",
    "df['dropoff_timeofday']=df['dropoff_hour'].apply(time_of_day)"
   ]
  },
  {
   "cell_type": "code",
   "execution_count": 12,
   "id": "44b3c00f",
   "metadata": {},
   "outputs": [
    {
     "data": {
      "text/plain": [
       "1    797423\n",
       "2    135575\n",
       "3     34200\n",
       "5     27628\n",
       "0     21569\n",
       "6     19334\n",
       "4     12843\n",
       "7         2\n",
       "9         1\n",
       "Name: passenger_count, dtype: int64"
      ]
     },
     "execution_count": 12,
     "metadata": {},
     "output_type": "execute_result"
    }
   ],
   "source": [
    "#Passenger count\n",
    "df.passenger_count.value_counts()"
   ]
  },
  {
   "cell_type": "code",
   "execution_count": 13,
   "id": "d3a5c0a9",
   "metadata": {},
   "outputs": [
    {
     "data": {
      "text/plain": [
       "<AxesSubplot:xlabel='passenger_count', ylabel='count'>"
      ]
     },
     "execution_count": 13,
     "metadata": {},
     "output_type": "execute_result"
    },
    {
     "data": {
      "image/png": "[encoded data removed]",
      "text/plain": [
       "<Figure size 432x288 with 1 Axes>"
      ]
     },
     "metadata": {},
     "output_type": "display_data"
    }
   ],
   "source": [
    "sns.countplot(x='passenger_count',data=df)"
   ]
  },
  {
   "cell_type": "markdown",
   "id": "74f54541",
   "metadata": {},
   "source": [
    "there are some trips with 0 passengers\n",
    "and for 7 & 9 there are few ones "
   ]
  },
  {
   "cell_type": "markdown",
   "id": "73e04d86",
   "metadata": {},
   "source": [
    "### cleaning data\n",
    "in this part will clean the fllowing data\n",
    "\n",
    "-remove the rows which have 0 or 7 or 9 passenger count.\n",
    "\n",
    "-since there are some columns that are not needed in this analysis, such as store_and_fwd_flag, mta_tax, tolls_amount. it shall be cleaned."
   ]
  },
  {
   "cell_type": "code",
   "execution_count": 14,
   "id": "5653373c",
   "metadata": {},
   "outputs": [],
   "source": [
    "#remove some data\n",
    "df=df[df['passenger_count']!=0]\n",
    "df=df[df['passenger_count']<=6]"
   ]
  },
  {
   "cell_type": "code",
   "execution_count": 15,
   "id": "1e0d8b70",
   "metadata": {},
   "outputs": [
    {
     "data": {
      "text/plain": [
       "1    797423\n",
       "2    135575\n",
       "3     34200\n",
       "5     27628\n",
       "6     19334\n",
       "4     12843\n",
       "Name: passenger_count, dtype: int64"
      ]
     },
     "execution_count": 15,
     "metadata": {},
     "output_type": "execute_result"
    }
   ],
   "source": [
    "df.passenger_count.value_counts()"
   ]
  },
  {
   "cell_type": "code",
   "execution_count": 16,
   "id": "1aca0fb7",
   "metadata": {},
   "outputs": [
    {
     "data": {
      "text/html": [
       "<div>\n",
       "<style scoped>\n",
       "    .dataframe tbody tr th:only-of-type {\n",
       "        vertical-align: middle;\n",
       "    }\n",
       "\n",
       "    .dataframe tbody tr th {\n",
       "        vertical-align: top;\n",
       "    }\n",
       "\n",
       "    .dataframe thead th {\n",
       "        text-align: right;\n",
       "    }\n",
       "</style>\n",
       "<table border=\"1\" class=\"dataframe\">\n",
       "  <thead>\n",
       "    <tr style=\"text-align: right;\">\n",
       "      <th></th>\n",
       "      <th>VendorID</th>\n",
       "      <th>tpep_pickup_datetime</th>\n",
       "      <th>time_pickup</th>\n",
       "      <th>tpep_dropoff_datetime</th>\n",
       "      <th>time_dropoff</th>\n",
       "      <th>passenger_count</th>\n",
       "      <th>trip_distance</th>\n",
       "      <th>RatecodeID8</th>\n",
       "      <th>PULocationID</th>\n",
       "      <th>DOLocationID</th>\n",
       "      <th>...</th>\n",
       "      <th>pickup_day</th>\n",
       "      <th>dropoff_day</th>\n",
       "      <th>pickup_day_no</th>\n",
       "      <th>dropoff_day_no</th>\n",
       "      <th>pickup_hour</th>\n",
       "      <th>dropoff_hour</th>\n",
       "      <th>pickup_month</th>\n",
       "      <th>dropoff_month</th>\n",
       "      <th>pickup_timeofday</th>\n",
       "      <th>dropoff_timeofday</th>\n",
       "    </tr>\n",
       "  </thead>\n",
       "  <tbody>\n",
       "    <tr>\n",
       "      <th>0</th>\n",
       "      <td>1</td>\n",
       "      <td>2021-02-01 00:40:00</td>\n",
       "      <td>0:40</td>\n",
       "      <td>2/1/2021 0:48</td>\n",
       "      <td>0:48</td>\n",
       "      <td>1</td>\n",
       "      <td>2.3</td>\n",
       "      <td>1</td>\n",
       "      <td>141</td>\n",
       "      <td>226</td>\n",
       "      <td>...</td>\n",
       "      <td>Monday</td>\n",
       "      <td>Monday</td>\n",
       "      <td>0</td>\n",
       "      <td>0</td>\n",
       "      <td>0</td>\n",
       "      <td>0</td>\n",
       "      <td>2</td>\n",
       "      <td>2</td>\n",
       "      <td>Late night</td>\n",
       "      <td>Late night</td>\n",
       "    </tr>\n",
       "  </tbody>\n",
       "</table>\n",
       "<p>1 rows × 29 columns</p>\n",
       "</div>"
      ],
      "text/plain": [
       "   VendorID tpep_pickup_datetime time_pickup tpep_dropoff_datetime  \\\n",
       "0         1  2021-02-01 00:40:00        0:40         2/1/2021 0:48   \n",
       "\n",
       "  time_dropoff  passenger_count  trip_distance  RatecodeID8  PULocationID  \\\n",
       "0         0:48                1            2.3            1           141   \n",
       "\n",
       "   DOLocationID  ...  pickup_day  dropoff_day  pickup_day_no  dropoff_day_no  \\\n",
       "0           226  ...      Monday       Monday              0               0   \n",
       "\n",
       "   pickup_hour  dropoff_hour  pickup_month  dropoff_month  pickup_timeofday  \\\n",
       "0            0             0             2              2        Late night   \n",
       "\n",
       "  dropoff_timeofday  \n",
       "0        Late night  \n",
       "\n",
       "[1 rows x 29 columns]"
      ]
     },
     "execution_count": 16,
     "metadata": {},
     "output_type": "execute_result"
    }
   ],
   "source": [
    "#drop columns\n",
    "df.drop('store_and_fwd_flag', axis=1, inplace=True)\n",
    "df.head(1)"
   ]
  },
  {
   "cell_type": "code",
   "execution_count": 17,
   "id": "c3e9ce3d",
   "metadata": {},
   "outputs": [
    {
     "data": {
      "text/html": [
       "<div>\n",
       "<style scoped>\n",
       "    .dataframe tbody tr th:only-of-type {\n",
       "        vertical-align: middle;\n",
       "    }\n",
       "\n",
       "    .dataframe tbody tr th {\n",
       "        vertical-align: top;\n",
       "    }\n",
       "\n",
       "    .dataframe thead th {\n",
       "        text-align: right;\n",
       "    }\n",
       "</style>\n",
       "<table border=\"1\" class=\"dataframe\">\n",
       "  <thead>\n",
       "    <tr style=\"text-align: right;\">\n",
       "      <th></th>\n",
       "      <th>VendorID</th>\n",
       "      <th>tpep_pickup_datetime</th>\n",
       "      <th>time_pickup</th>\n",
       "      <th>tpep_dropoff_datetime</th>\n",
       "      <th>time_dropoff</th>\n",
       "      <th>passenger_count</th>\n",
       "      <th>trip_distance</th>\n",
       "      <th>RatecodeID8</th>\n",
       "      <th>PULocationID</th>\n",
       "      <th>DOLocationID</th>\n",
       "      <th>...</th>\n",
       "      <th>pickup_day</th>\n",
       "      <th>dropoff_day</th>\n",
       "      <th>pickup_day_no</th>\n",
       "      <th>dropoff_day_no</th>\n",
       "      <th>pickup_hour</th>\n",
       "      <th>dropoff_hour</th>\n",
       "      <th>pickup_month</th>\n",
       "      <th>dropoff_month</th>\n",
       "      <th>pickup_timeofday</th>\n",
       "      <th>dropoff_timeofday</th>\n",
       "    </tr>\n",
       "  </thead>\n",
       "  <tbody>\n",
       "    <tr>\n",
       "      <th>0</th>\n",
       "      <td>1</td>\n",
       "      <td>2021-02-01 00:40:00</td>\n",
       "      <td>0:40</td>\n",
       "      <td>2/1/2021 0:48</td>\n",
       "      <td>0:48</td>\n",
       "      <td>1</td>\n",
       "      <td>2.3</td>\n",
       "      <td>1</td>\n",
       "      <td>141</td>\n",
       "      <td>226</td>\n",
       "      <td>...</td>\n",
       "      <td>Monday</td>\n",
       "      <td>Monday</td>\n",
       "      <td>0</td>\n",
       "      <td>0</td>\n",
       "      <td>0</td>\n",
       "      <td>0</td>\n",
       "      <td>2</td>\n",
       "      <td>2</td>\n",
       "      <td>Late night</td>\n",
       "      <td>Late night</td>\n",
       "    </tr>\n",
       "  </tbody>\n",
       "</table>\n",
       "<p>1 rows × 28 columns</p>\n",
       "</div>"
      ],
      "text/plain": [
       "   VendorID tpep_pickup_datetime time_pickup tpep_dropoff_datetime  \\\n",
       "0         1  2021-02-01 00:40:00        0:40         2/1/2021 0:48   \n",
       "\n",
       "  time_dropoff  passenger_count  trip_distance  RatecodeID8  PULocationID  \\\n",
       "0         0:48                1            2.3            1           141   \n",
       "\n",
       "   DOLocationID  ...  pickup_day  dropoff_day  pickup_day_no  dropoff_day_no  \\\n",
       "0           226  ...      Monday       Monday              0               0   \n",
       "\n",
       "   pickup_hour  dropoff_hour  pickup_month  dropoff_month pickup_timeofday  \\\n",
       "0            0             0             2              2       Late night   \n",
       "\n",
       "  dropoff_timeofday  \n",
       "0        Late night  \n",
       "\n",
       "[1 rows x 28 columns]"
      ]
     },
     "execution_count": 17,
     "metadata": {},
     "output_type": "execute_result"
    }
   ],
   "source": [
    "#drop columns\n",
    "df.drop('mta_tax', axis=1, inplace=True)\n",
    "df.head(1)"
   ]
  },
  {
   "cell_type": "code",
   "execution_count": 18,
   "id": "9f22deef",
   "metadata": {},
   "outputs": [
    {
     "data": {
      "text/html": [
       "<div>\n",
       "<style scoped>\n",
       "    .dataframe tbody tr th:only-of-type {\n",
       "        vertical-align: middle;\n",
       "    }\n",
       "\n",
       "    .dataframe tbody tr th {\n",
       "        vertical-align: top;\n",
       "    }\n",
       "\n",
       "    .dataframe thead th {\n",
       "        text-align: right;\n",
       "    }\n",
       "</style>\n",
       "<table border=\"1\" class=\"dataframe\">\n",
       "  <thead>\n",
       "    <tr style=\"text-align: right;\">\n",
       "      <th></th>\n",
       "      <th>VendorID</th>\n",
       "      <th>tpep_pickup_datetime</th>\n",
       "      <th>time_pickup</th>\n",
       "      <th>tpep_dropoff_datetime</th>\n",
       "      <th>time_dropoff</th>\n",
       "      <th>passenger_count</th>\n",
       "      <th>trip_distance</th>\n",
       "      <th>RatecodeID8</th>\n",
       "      <th>PULocationID</th>\n",
       "      <th>DOLocationID</th>\n",
       "      <th>...</th>\n",
       "      <th>pickup_day</th>\n",
       "      <th>dropoff_day</th>\n",
       "      <th>pickup_day_no</th>\n",
       "      <th>dropoff_day_no</th>\n",
       "      <th>pickup_hour</th>\n",
       "      <th>dropoff_hour</th>\n",
       "      <th>pickup_month</th>\n",
       "      <th>dropoff_month</th>\n",
       "      <th>pickup_timeofday</th>\n",
       "      <th>dropoff_timeofday</th>\n",
       "    </tr>\n",
       "  </thead>\n",
       "  <tbody>\n",
       "    <tr>\n",
       "      <th>0</th>\n",
       "      <td>1</td>\n",
       "      <td>2021-02-01 00:40:00</td>\n",
       "      <td>0:40</td>\n",
       "      <td>2/1/2021 0:48</td>\n",
       "      <td>0:48</td>\n",
       "      <td>1</td>\n",
       "      <td>2.3</td>\n",
       "      <td>1</td>\n",
       "      <td>141</td>\n",
       "      <td>226</td>\n",
       "      <td>...</td>\n",
       "      <td>Monday</td>\n",
       "      <td>Monday</td>\n",
       "      <td>0</td>\n",
       "      <td>0</td>\n",
       "      <td>0</td>\n",
       "      <td>0</td>\n",
       "      <td>2</td>\n",
       "      <td>2</td>\n",
       "      <td>Late night</td>\n",
       "      <td>Late night</td>\n",
       "    </tr>\n",
       "  </tbody>\n",
       "</table>\n",
       "<p>1 rows × 27 columns</p>\n",
       "</div>"
      ],
      "text/plain": [
       "   VendorID tpep_pickup_datetime time_pickup tpep_dropoff_datetime  \\\n",
       "0         1  2021-02-01 00:40:00        0:40         2/1/2021 0:48   \n",
       "\n",
       "  time_dropoff  passenger_count  trip_distance  RatecodeID8  PULocationID  \\\n",
       "0         0:48                1            2.3            1           141   \n",
       "\n",
       "   DOLocationID  ...  pickup_day  dropoff_day  pickup_day_no  dropoff_day_no  \\\n",
       "0           226  ...      Monday       Monday              0               0   \n",
       "\n",
       "   pickup_hour  dropoff_hour  pickup_month dropoff_month pickup_timeofday  \\\n",
       "0            0             0             2             2       Late night   \n",
       "\n",
       "   dropoff_timeofday  \n",
       "0         Late night  \n",
       "\n",
       "[1 rows x 27 columns]"
      ]
     },
     "execution_count": 18,
     "metadata": {},
     "output_type": "execute_result"
    }
   ],
   "source": [
    "#drop columns\n",
    "df.drop('tolls_amount', axis=1, inplace=True)\n",
    "df.head(1)"
   ]
  },
  {
   "cell_type": "markdown",
   "id": "21dfe23a",
   "metadata": {},
   "source": [
    "### Tips per hours"
   ]
  },
  {
   "cell_type": "code",
   "execution_count": 19,
   "id": "de732a3d",
   "metadata": {},
   "outputs": [
    {
     "data": {
      "text/plain": [
       "<AxesSubplot:xlabel='dropoff_hour', ylabel='tip_amount'>"
      ]
     },
     "execution_count": 19,
     "metadata": {},
     "output_type": "execute_result"
    },
    {
     "data": {
      "image/png": "[encoded data removed]",
      "text/plain": [
       "<Figure size 432x288 with 1 Axes>"
      ]
     },
     "metadata": {},
     "output_type": "display_data"
    }
   ],
   "source": [
    "sns.barplot(y='tip_amount',x='dropoff_hour',data=df)"
   ]
  },
  {
   "cell_type": "markdown",
   "id": "7703b78a",
   "metadata": {},
   "source": [
    "passenger give the most tips between 10 pm & 12 pm. \n",
    "passenger give the least tips after midnight with peak early morning "
   ]
  },
  {
   "cell_type": "markdown",
   "id": "f63690a2",
   "metadata": {},
   "source": [
    "### Per Day Trips"
   ]
  },
  {
   "cell_type": "code",
   "execution_count": 20,
   "id": "a62f65a1",
   "metadata": {},
   "outputs": [
    {
     "data": {
      "image/png": "[encoded data removed]",
      "text/plain": [
       "<Figure size 1440x360 with 2 Axes>"
      ]
     },
     "metadata": {},
     "output_type": "display_data"
    }
   ],
   "source": [
    "figure,(ax1,ax2)=plt.subplots(ncols=2,figsize=(20,5))\n",
    "ax1.set_title('Pickup Day')\n",
    "ax=sns.countplot(x='pickup_day',data=df,ax=ax1)\n",
    "ax2.set_title('Dropoff Day')\n",
    "ax=sns.countplot(x=\"dropoff_day\",data=df,ax=ax2)"
   ]
  },
  {
   "cell_type": "markdown",
   "id": "9b80a7eb",
   "metadata": {},
   "source": [
    "There are high demand on Friday, Tuesday, and Wednesday"
   ]
  },
  {
   "cell_type": "markdown",
   "id": "4fb44dc1",
   "metadata": {},
   "source": [
    "### Per hours Trips"
   ]
  },
  {
   "cell_type": "code",
   "execution_count": 21,
   "id": "6c03ce82",
   "metadata": {},
   "outputs": [
    {
     "data": {
      "image/png": "[encoded data removed]",
      "text/plain": [
       "<Figure size 1440x360 with 2 Axes>"
      ]
     },
     "metadata": {},
     "output_type": "display_data"
    }
   ],
   "source": [
    "figure,(ax9,ax10)=plt.subplots(ncols=2,figsize=(20,5))\n",
    "ax9.set_title('Pickup Days')\n",
    "ax=sns.countplot(x=\"pickup_hour\",data=df,ax=ax9)\n",
    "ax10.set_title('Dropoff Days')\n",
    "ax=sns.countplot(x=\"dropoff_hour\",data=df,ax=ax10)"
   ]
  },
  {
   "cell_type": "markdown",
   "id": "e868293f",
   "metadata": {},
   "source": [
    "1 pm to 2pm ther are busiest hours"
   ]
  },
  {
   "cell_type": "markdown",
   "id": "4d2ba3db",
   "metadata": {},
   "source": [
    "### Trips based on the time of day"
   ]
  },
  {
   "cell_type": "code",
   "execution_count": 22,
   "id": "61b652a7",
   "metadata": {},
   "outputs": [
    {
     "data": {
      "image/png": "[encoded data removed]",
      "text/plain": [
       "<Figure size 1440x360 with 2 Axes>"
      ]
     },
     "metadata": {},
     "output_type": "display_data"
    }
   ],
   "source": [
    "igure,(ax3,ax4)=plt.subplots(ncols=2,figsize=(20,5))\n",
    "ax3.set_title('Pickup Time of Day')\n",
    "ax=sns.countplot(x=\"pickup_timeofday\",data=df,ax=ax3)\n",
    "ax4.set_title('Dropoff Time of Day')\n",
    "ax=sns.countplot(x=\"dropoff_timeofday\",data=df,ax=ax4)"
   ]
  },
  {
   "cell_type": "markdown",
   "id": "abc22848",
   "metadata": {},
   "source": [
    "Evening has the highest demand"
   ]
  },
  {
   "cell_type": "markdown",
   "id": "a41f6ae9",
   "metadata": {},
   "source": [
    "### Doing some query"
   ]
  },
  {
   "cell_type": "code",
   "execution_count": 24,
   "id": "5e23172a",
   "metadata": {},
   "outputs": [
    {
     "data": {
      "text/html": [
       "<div>\n",
       "<style scoped>\n",
       "    .dataframe tbody tr th:only-of-type {\n",
       "        vertical-align: middle;\n",
       "    }\n",
       "\n",
       "    .dataframe tbody tr th {\n",
       "        vertical-align: top;\n",
       "    }\n",
       "\n",
       "    .dataframe thead th {\n",
       "        text-align: right;\n",
       "    }\n",
       "</style>\n",
       "<table border=\"1\" class=\"dataframe\">\n",
       "  <thead>\n",
       "    <tr style=\"text-align: right;\">\n",
       "      <th></th>\n",
       "      <th>VendorID</th>\n",
       "      <th>tpep_pickup_datetime</th>\n",
       "      <th>time_pickup</th>\n",
       "      <th>tpep_dropoff_datetime</th>\n",
       "      <th>time_dropoff</th>\n",
       "      <th>passenger_count</th>\n",
       "      <th>trip_distance</th>\n",
       "      <th>RatecodeID8</th>\n",
       "      <th>store_and_fwd_flag</th>\n",
       "      <th>PULocationID</th>\n",
       "      <th>DOLocationID</th>\n",
       "      <th>payment_type</th>\n",
       "      <th>fare_amount</th>\n",
       "      <th>extra</th>\n",
       "      <th>mta_tax</th>\n",
       "      <th>tip_amount</th>\n",
       "      <th>tolls_amount</th>\n",
       "      <th>improvement_surcharge</th>\n",
       "      <th>total_amount</th>\n",
       "      <th>congestion_surcharge</th>\n",
       "    </tr>\n",
       "  </thead>\n",
       "  <tbody>\n",
       "    <tr>\n",
       "      <th>0</th>\n",
       "      <td>2</td>\n",
       "      <td>2/1/2021 0:52</td>\n",
       "      <td>0:52</td>\n",
       "      <td>2/1/2021 1:16</td>\n",
       "      <td>1:16</td>\n",
       "      <td>4</td>\n",
       "      <td>6.07</td>\n",
       "      <td>1</td>\n",
       "      <td>N</td>\n",
       "      <td>249</td>\n",
       "      <td>181</td>\n",
       "      <td>1</td>\n",
       "      <td>21.0</td>\n",
       "      <td>0.5</td>\n",
       "      <td>0.5</td>\n",
       "      <td>6.20</td>\n",
       "      <td>0.00</td>\n",
       "      <td>0.3</td>\n",
       "      <td>31.00</td>\n",
       "      <td>2.5</td>\n",
       "    </tr>\n",
       "    <tr>\n",
       "      <th>1</th>\n",
       "      <td>2</td>\n",
       "      <td>2/1/2021 0:15</td>\n",
       "      <td>0:15</td>\n",
       "      <td>2/1/2021 0:27</td>\n",
       "      <td>0:27</td>\n",
       "      <td>3</td>\n",
       "      <td>2.73</td>\n",
       "      <td>1</td>\n",
       "      <td>N</td>\n",
       "      <td>186</td>\n",
       "      <td>237</td>\n",
       "      <td>1</td>\n",
       "      <td>10.0</td>\n",
       "      <td>0.5</td>\n",
       "      <td>0.5</td>\n",
       "      <td>4.14</td>\n",
       "      <td>0.00</td>\n",
       "      <td>0.3</td>\n",
       "      <td>17.94</td>\n",
       "      <td>2.5</td>\n",
       "    </tr>\n",
       "    <tr>\n",
       "      <th>2</th>\n",
       "      <td>2</td>\n",
       "      <td>2/5/2021 0:04</td>\n",
       "      <td>0:04</td>\n",
       "      <td>2/5/2021 0:22</td>\n",
       "      <td>0:22</td>\n",
       "      <td>5</td>\n",
       "      <td>7.15</td>\n",
       "      <td>1</td>\n",
       "      <td>N</td>\n",
       "      <td>161</td>\n",
       "      <td>36</td>\n",
       "      <td>1</td>\n",
       "      <td>22.5</td>\n",
       "      <td>0.5</td>\n",
       "      <td>0.5</td>\n",
       "      <td>9.73</td>\n",
       "      <td>6.12</td>\n",
       "      <td>0.3</td>\n",
       "      <td>42.15</td>\n",
       "      <td>2.5</td>\n",
       "    </tr>\n",
       "    <tr>\n",
       "      <th>3</th>\n",
       "      <td>2</td>\n",
       "      <td>2/1/2021 0:38</td>\n",
       "      <td>0:38</td>\n",
       "      <td>2/1/2021 0:53</td>\n",
       "      <td>0:53</td>\n",
       "      <td>6</td>\n",
       "      <td>4.27</td>\n",
       "      <td>1</td>\n",
       "      <td>N</td>\n",
       "      <td>263</td>\n",
       "      <td>68</td>\n",
       "      <td>2</td>\n",
       "      <td>14.5</td>\n",
       "      <td>0.5</td>\n",
       "      <td>0.5</td>\n",
       "      <td>0.00</td>\n",
       "      <td>0.00</td>\n",
       "      <td>0.3</td>\n",
       "      <td>18.30</td>\n",
       "      <td>2.5</td>\n",
       "    </tr>\n",
       "    <tr>\n",
       "      <th>4</th>\n",
       "      <td>2</td>\n",
       "      <td>1/31/2021 23:57</td>\n",
       "      <td>23:57</td>\n",
       "      <td>2/1/2021 0:02</td>\n",
       "      <td>0:02</td>\n",
       "      <td>6</td>\n",
       "      <td>1.44</td>\n",
       "      <td>1</td>\n",
       "      <td>N</td>\n",
       "      <td>158</td>\n",
       "      <td>100</td>\n",
       "      <td>1</td>\n",
       "      <td>6.5</td>\n",
       "      <td>0.5</td>\n",
       "      <td>0.5</td>\n",
       "      <td>2.58</td>\n",
       "      <td>0.00</td>\n",
       "      <td>0.3</td>\n",
       "      <td>12.88</td>\n",
       "      <td>2.5</td>\n",
       "    </tr>\n",
       "  </tbody>\n",
       "</table>\n",
       "</div>"
      ],
      "text/plain": [
       "   VendorID tpep_pickup_datetime time_pickup tpep_dropoff_datetime  \\\n",
       "0         2        2/1/2021 0:52        0:52         2/1/2021 1:16   \n",
       "1         2        2/1/2021 0:15        0:15         2/1/2021 0:27   \n",
       "2         2        2/5/2021 0:04        0:04         2/5/2021 0:22   \n",
       "3         2        2/1/2021 0:38        0:38         2/1/2021 0:53   \n",
       "4         2      1/31/2021 23:57       23:57         2/1/2021 0:02   \n",
       "\n",
       "  time_dropoff  passenger_count  trip_distance  RatecodeID8  \\\n",
       "0         1:16                4           6.07            1   \n",
       "1         0:27                3           2.73            1   \n",
       "2         0:22                5           7.15            1   \n",
       "3         0:53                6           4.27            1   \n",
       "4         0:02                6           1.44            1   \n",
       "\n",
       "  store_and_fwd_flag  PULocationID  DOLocationID  payment_type  fare_amount  \\\n",
       "0                  N           249           181             1         21.0   \n",
       "1                  N           186           237             1         10.0   \n",
       "2                  N           161            36             1         22.5   \n",
       "3                  N           263            68             2         14.5   \n",
       "4                  N           158           100             1          6.5   \n",
       "\n",
       "   extra  mta_tax  tip_amount  tolls_amount  improvement_surcharge  \\\n",
       "0    0.5      0.5        6.20          0.00                    0.3   \n",
       "1    0.5      0.5        4.14          0.00                    0.3   \n",
       "2    0.5      0.5        9.73          6.12                    0.3   \n",
       "3    0.5      0.5        0.00          0.00                    0.3   \n",
       "4    0.5      0.5        2.58          0.00                    0.3   \n",
       "\n",
       "   total_amount  congestion_surcharge  \n",
       "0         31.00                   2.5  \n",
       "1         17.94                   2.5  \n",
       "2         42.15                   2.5  \n",
       "3         18.30                   2.5  \n",
       "4         12.88                   2.5  "
      ]
     },
     "execution_count": 24,
     "metadata": {},
     "output_type": "execute_result"
    }
   ],
   "source": [
    "#selecting all columns\n",
    "query = '''select * from yellow_tripdata\n",
    "where passenger_count > 2'''\n",
    "df2 = pd.read_sql_query(query, connect)\n",
    "df2.head()"
   ]
  },
  {
   "cell_type": "code",
   "execution_count": 25,
   "id": "f19aeb18",
   "metadata": {},
   "outputs": [
    {
     "data": {
      "text/html": [
       "<div>\n",
       "<style scoped>\n",
       "    .dataframe tbody tr th:only-of-type {\n",
       "        vertical-align: middle;\n",
       "    }\n",
       "\n",
       "    .dataframe tbody tr th {\n",
       "        vertical-align: top;\n",
       "    }\n",
       "\n",
       "    .dataframe thead th {\n",
       "        text-align: right;\n",
       "    }\n",
       "</style>\n",
       "<table border=\"1\" class=\"dataframe\">\n",
       "  <thead>\n",
       "    <tr style=\"text-align: right;\">\n",
       "      <th></th>\n",
       "      <th>payment_type</th>\n",
       "      <th>avg_amount</th>\n",
       "    </tr>\n",
       "  </thead>\n",
       "  <tbody>\n",
       "    <tr>\n",
       "      <th>0</th>\n",
       "      <td>1</td>\n",
       "      <td>2.65314</td>\n",
       "    </tr>\n",
       "  </tbody>\n",
       "</table>\n",
       "</div>"
      ],
      "text/plain": [
       "   payment_type  avg_amount\n",
       "0             1     2.65314"
      ]
     },
     "execution_count": 25,
     "metadata": {},
     "output_type": "execute_result"
    }
   ],
   "source": [
    "#average tip amount\n",
    "query = '''SELECT payment_type, AVG(tip_amount) as avg_amount\n",
    "FROM yellow_tripdata\n",
    " where payment_type == 1\n",
    "GROUP BY payment_type;'''\n",
    "df3 = pd.read_sql_query(query, connect)\n",
    "df3.head()"
   ]
  },
  {
   "cell_type": "code",
   "execution_count": 26,
   "id": "a6a15921",
   "metadata": {},
   "outputs": [
    {
     "data": {
      "text/plain": [
       "<seaborn.axisgrid.FacetGrid at 0x228bb23f880>"
      ]
     },
     "execution_count": 26,
     "metadata": {},
     "output_type": "execute_result"
    },
    {
     "data": {
      "image/png": "[encoded data removed]",
      "text/plain": [
       "<Figure size 444.175x360 with 1 Axes>"
      ]
     },
     "metadata": {},
     "output_type": "display_data"
    }
   ],
   "source": [
    "sns.relplot(x='total_amount', y='trip_distance', hue='payment_type', data=df2)"
   ]
  },
  {
   "cell_type": "markdown",
   "id": "9267094e",
   "metadata": {},
   "source": [
    "1= Credit card 2= Cash 3 = No charge 4 = Dispute\n",
    "this show the near distance the more dispute"
   ]
  },
  {
   "cell_type": "markdown",
   "id": "c4811492",
   "metadata": {},
   "source": [
    "### Conclusion\n",
    "Most of the rides are on Friday, Tuesday, and Wednesday\n",
    "Most rides are taken in the evening time\n",
    "passenger give the most tips between 10 pm & 12 pm. \n",
    "passenger give the least tips after midnight with peak early morning\n",
    "this show the near distance the more dispute"
   ]
  }
 ],
 "metadata": {
  "kernelspec": {
   "display_name": "Python 3",
   "language": "python",
   "name": "python3"
  },
  "language_info": {
   "codemirror_mode": {
    "name": "ipython",
    "version": 3
   },
   "file_extension": ".py",
   "mimetype": "text/x-python",
   "name": "python",
   "nbconvert_exporter": "python",
   "pygments_lexer": "ipython3",
   "version": "3.8.8"
  }
 },
 "nbformat": 4,
 "nbformat_minor": 5
}
